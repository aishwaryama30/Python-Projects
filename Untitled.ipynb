{
 "cells": [
  {
   "cell_type": "code",
   "execution_count": 1,
   "id": "e88bbfea",
   "metadata": {},
   "outputs": [
    {
     "name": "stdout",
     "output_type": "stream",
     "text": [
      "1/3\n"
     ]
    }
   ],
   "source": [
    "from sympy import *\n",
    "x,y,z = symbols('x y z')\n",
    "w1=integrate(x**2+y**2,(y,0,x),(x,0,1))\n",
    "print(w1)"
   ]
  },
  {
   "cell_type": "code",
   "execution_count": 2,
   "id": "26c654e7",
   "metadata": {},
   "outputs": [
    {
     "name": "stdout",
     "output_type": "stream",
     "text": [
      "81/80\n"
     ]
    }
   ],
   "source": [
    "from sympy import *\n",
    "x,y,z = symbols('x y z')\n",
    "w1=integrate(x*y*z,(z,0,3-x-y),(y,0,3-x),(x,0,3))\n",
    "print(w1)"
   ]
  },
  {
   "cell_type": "code",
   "execution_count": 3,
   "id": "872e7ad3",
   "metadata": {},
   "outputs": [
    {
     "name": "stdout",
     "output_type": "stream",
     "text": [
      "24.0*pi\n"
     ]
    }
   ],
   "source": [
    "from sympy import *\n",
    "x,y = symbols('x y')\n",
    "a=4\n",
    "b=6\n",
    "w1=4*integrate(1,(y,0,(b/a)*sqrt(a**2-x**2)),(x,0,a))\n",
    "print(w1)"
   ]
  },
  {
   "cell_type": "code",
   "execution_count": 7,
   "id": "2897c662",
   "metadata": {},
   "outputs": [
    {
     "name": "stdout",
     "output_type": "stream",
     "text": [
      "24⋅π\n"
     ]
    }
   ],
   "source": [
    "from sympy import *\n",
    "r,t,a = symbols('r t a')\n",
    "a=4\n",
    "w1=2*integrate(r,(r,0,a*(1+cos(t))),(t,0,pi))\n",
    "pprint(w1)"
   ]
  },
  {
   "cell_type": "code",
   "execution_count": 8,
   "id": "c20940e7",
   "metadata": {},
   "outputs": [
    {
     "name": "stdout",
     "output_type": "stream",
     "text": [
      "gamma = 24.000\n",
      "beta = 0.010\n"
     ]
    }
   ],
   "source": [
    "from sympy import beta,gamma\n",
    "m=3\n",
    "n=5\n",
    "s=beta(m,n)\n",
    "t=gamma(n)\n",
    "print('gamma = %3.3f'%t)\n",
    "print('beta = %3.3f'%s)"
   ]
  },
  {
   "cell_type": "code",
   "execution_count": 9,
   "id": "92c8aa41",
   "metadata": {},
   "outputs": [
    {
     "name": "stdout",
     "output_type": "stream",
     "text": [
      "gamma = 3.323\n",
      "beta = 0.037\n"
     ]
    }
   ],
   "source": [
    "from sympy import beta,gamma\n",
    "m=5/2\n",
    "n=7/2\n",
    "s=beta(m,n)\n",
    "t=gamma(n)\n",
    "print('gamma = %3.3f'%t)\n",
    "print('beta = %3.3f'%s)"
   ]
  },
  {
   "cell_type": "code",
   "execution_count": 10,
   "id": "506d2984",
   "metadata": {},
   "outputs": [
    {
     "data": {
      "text/latex": [
       "$\\displaystyle (\\frac{\\partial}{\\partial \\mathbf{{x}_{N}}} \\left(\\mathbf{{x}_{N}}^{2} \\mathbf{{y}_{N}} + 2 \\mathbf{{x}_{N}} \\mathbf{{z}_{N}} - 4\\right))\\mathbf{\\hat{i}_{N}} + (\\frac{\\partial}{\\partial \\mathbf{{y}_{N}}} \\left(\\mathbf{{x}_{N}}^{2} \\mathbf{{y}_{N}} + 2 \\mathbf{{x}_{N}} \\mathbf{{z}_{N}} - 4\\right))\\mathbf{\\hat{j}_{N}} + (\\frac{\\partial}{\\partial \\mathbf{{z}_{N}}} \\left(\\mathbf{{x}_{N}}^{2} \\mathbf{{y}_{N}} + 2 \\mathbf{{x}_{N}} \\mathbf{{z}_{N}} - 4\\right))\\mathbf{\\hat{k}_{N}}$"
      ],
      "text/plain": [
       "(Derivative(N.x**2*N.y + 2*N.x*N.z - 4, N.x))*N.i + (Derivative(N.x**2*N.y + 2*N.x*N.z - 4, N.y))*N.j + (Derivative(N.x**2*N.y + 2*N.x*N.z - 4, N.z))*N.k"
      ]
     },
     "metadata": {},
     "output_type": "display_data"
    },
    {
     "data": {
      "text/latex": [
       "$\\displaystyle (2 \\mathbf{{x}_{N}} \\mathbf{{y}_{N}} + 2 \\mathbf{{z}_{N}})\\mathbf{\\hat{i}_{N}} + (\\mathbf{{x}_{N}}^{2})\\mathbf{\\hat{j}_{N}} + (2 \\mathbf{{x}_{N}})\\mathbf{\\hat{k}_{N}}$"
      ],
      "text/plain": [
       "(2*N.x*N.y + 2*N.z)*N.i + N.x**2*N.j + 2*N.x*N.k"
      ]
     },
     "metadata": {},
     "output_type": "display_data"
    }
   ],
   "source": [
    "from sympy.vector import *\n",
    "from sympy import symbols\n",
    "N=CoordSys3D('N')\n",
    "x,y,z=symbols('x y z')\n",
    "A=N.x**2*N.y+2*N.x*N.z-4\n",
    "delop=Del()\n",
    "display(delop(A))\n",
    "display(gradient(A))"
   ]
  },
  {
   "cell_type": "code",
   "execution_count": 14,
   "id": "6f51f441",
   "metadata": {},
   "outputs": [
    {
     "data": {
      "text/latex": [
       "$\\displaystyle \\frac{\\partial}{\\partial \\mathbf{{z}_{N}}} \\mathbf{{x}_{N}} \\mathbf{{y}_{N}} \\mathbf{{z}_{N}}^{2} + \\frac{\\partial}{\\partial \\mathbf{{y}_{N}}} \\mathbf{{x}_{N}} \\mathbf{{y}_{N}}^{2} \\mathbf{{z}_{N}} + \\frac{\\partial}{\\partial \\mathbf{{x}_{N}}} \\mathbf{{x}_{N}}^{2} \\mathbf{{y}_{N}} \\mathbf{{z}_{N}}$"
      ],
      "text/plain": [
       "Derivative(N.x*N.y*N.z**2, N.z) + Derivative(N.x*N.y**2*N.z, N.y) + Derivative(N.x**2*N.y*N.z, N.x)"
      ]
     },
     "metadata": {},
     "output_type": "display_data"
    },
    {
     "data": {
      "text/latex": [
       "$\\displaystyle 6 \\mathbf{{x}_{N}} \\mathbf{{y}_{N}} \\mathbf{{z}_{N}}$"
      ],
      "text/plain": [
       "6*N.x*N.y*N.z"
      ]
     },
     "metadata": {},
     "output_type": "display_data"
    }
   ],
   "source": [
    "from sympy.vector import *\n",
    "from sympy import symbols\n",
    "N=CoordSys3D('N')\n",
    "x,y,z=symbols('x y z')\n",
    "A=N.x**2*N.y*N.z*N.i+N.y**2*N.z*N.x*N.j+N.z**2*N.x*N.y*N.k\n",
    "delop=Del()\n",
    "divA = delop.dot(A)\n",
    "display(divA)\n",
    "display(divergence(A))"
   ]
  },
  {
   "cell_type": "code",
   "execution_count": 16,
   "id": "4cb583e8",
   "metadata": {},
   "outputs": [
    {
     "data": {
      "text/latex": [
       "$\\displaystyle (\\frac{\\partial}{\\partial \\mathbf{{y}_{N}}} \\mathbf{{x}_{N}} \\mathbf{{y}_{N}} \\mathbf{{z}_{N}}^{2} - \\frac{\\partial}{\\partial \\mathbf{{z}_{N}}} \\mathbf{{x}_{N}} \\mathbf{{y}_{N}}^{2} \\mathbf{{z}_{N}})\\mathbf{\\hat{i}_{N}} + (- \\frac{\\partial}{\\partial \\mathbf{{x}_{N}}} \\mathbf{{x}_{N}} \\mathbf{{y}_{N}} \\mathbf{{z}_{N}}^{2} + \\frac{\\partial}{\\partial \\mathbf{{z}_{N}}} \\mathbf{{x}_{N}}^{2} \\mathbf{{y}_{N}} \\mathbf{{z}_{N}})\\mathbf{\\hat{j}_{N}} + (\\frac{\\partial}{\\partial \\mathbf{{x}_{N}}} \\mathbf{{x}_{N}} \\mathbf{{y}_{N}}^{2} \\mathbf{{z}_{N}} - \\frac{\\partial}{\\partial \\mathbf{{y}_{N}}} \\mathbf{{x}_{N}}^{2} \\mathbf{{y}_{N}} \\mathbf{{z}_{N}})\\mathbf{\\hat{k}_{N}}$"
      ],
      "text/plain": [
       "(Derivative(N.x*N.y*N.z**2, N.y) - Derivative(N.x*N.y**2*N.z, N.z))*N.i + (-Derivative(N.x*N.y*N.z**2, N.x) + Derivative(N.x**2*N.y*N.z, N.z))*N.j + (Derivative(N.x*N.y**2*N.z, N.x) - Derivative(N.x**2*N.y*N.z, N.y))*N.k"
      ]
     },
     "metadata": {},
     "output_type": "display_data"
    },
    {
     "data": {
      "text/latex": [
       "$\\displaystyle (- \\mathbf{{x}_{N}} \\mathbf{{y}_{N}}^{2} + \\mathbf{{x}_{N}} \\mathbf{{z}_{N}}^{2})\\mathbf{\\hat{i}_{N}} + (\\mathbf{{x}_{N}}^{2} \\mathbf{{y}_{N}} - \\mathbf{{y}_{N}} \\mathbf{{z}_{N}}^{2})\\mathbf{\\hat{j}_{N}} + (- \\mathbf{{x}_{N}}^{2} \\mathbf{{z}_{N}} + \\mathbf{{y}_{N}}^{2} \\mathbf{{z}_{N}})\\mathbf{\\hat{k}_{N}}$"
      ],
      "text/plain": [
       "(-N.x*N.y**2 + N.x*N.z**2)*N.i + (N.x**2*N.y - N.y*N.z**2)*N.j + (-N.x**2*N.z + N.y**2*N.z)*N.k"
      ]
     },
     "metadata": {},
     "output_type": "display_data"
    }
   ],
   "source": [
    "from sympy.vector import *\n",
    "from sympy import symbols\n",
    "N=CoordSys3D('N')\n",
    "x,y,z=symbols('x y z')\n",
    "A=N.x**2*N.y*N.z*N.i+N.y**2*N.z*N.x*N.j+N.z**2*N.x*N.y*N.k\n",
    "delop=Del()\n",
    "curlA = delop.cross(A)\n",
    "display(curlA)\n",
    "display(curl(A))"
   ]
  },
  {
   "cell_type": "code",
   "execution_count": 17,
   "id": "b0eedb39",
   "metadata": {},
   "outputs": [
    {
     "name": "stdout",
     "output_type": "stream",
     "text": [
      "[[-6]\n",
      " [ 2]]\n"
     ]
    },
    {
     "data": {
      "image/png": "[encoded data removed]",
      "text/plain": [
       "<Figure size 640x480 with 1 Axes>"
      ]
     },
     "metadata": {},
     "output_type": "display_data"
    }
   ],
   "source": [
    "import numpy as np\n",
    "import matplotlib.pyplot as plt\n",
    "v=np.array([[2,3]])\n",
    "origin=np.array([[0,0,0],[0,0,0]])\n",
    "a=np.matrix([[0,-1],[1,0]])\n",
    "b=np.matrix([[2,0],[0,1]])\n",
    "v1=np.matrix(v)\n",
    "v2=a*np.transpose(v1)\n",
    "v3=b*v2\n",
    "v2=np.array(v2)\n",
    "v3=np.array(v3)\n",
    "print(v3)\n",
    "plt.quiver(*origin,v[:,0],v[:,1],color=['b'],scale=15)\n",
    "plt.quiver(*origin,v2[0,:],v2[1,:],color=['r'],scale=15)\n",
    "plt.quiver(*origin,v3[0,:],v3[1,:],color=['g'],scale=15)\n",
    "plt.title('b=o, r=r, g=r+s')\n",
    "plt.show()"
   ]
  },
  {
   "cell_type": "code",
   "execution_count": 18,
   "id": "704f0a5e",
   "metadata": {},
   "outputs": [
    {
     "name": "stdout",
     "output_type": "stream",
     "text": [
      "77\n"
     ]
    }
   ],
   "source": [
    "import numpy as np\n",
    "a=np.array([2,1,5,4])\n",
    "b=np.array([3,4,7,8])\n",
    "o=np.dot(a,b)\n",
    "print(o)"
   ]
  },
  {
   "cell_type": "code",
   "execution_count": 20,
   "id": "a4823d1c",
   "metadata": {},
   "outputs": [
    {
     "name": "stdout",
     "output_type": "stream",
     "text": [
      "77\n",
      "not o\n"
     ]
    }
   ],
   "source": [
    "import numpy as np\n",
    "a=np.array([2,1,5,4])\n",
    "b=np.array([3,4,7,8])\n",
    "o=np.dot(a,b)\n",
    "print(o)\n",
    "if(o==0):\n",
    "    print('o')\n",
    "else:\n",
    "    print('not o')"
   ]
  },
  {
   "cell_type": "code",
   "execution_count": 38,
   "id": "acd1d3e9",
   "metadata": {},
   "outputs": [
    {
     "name": "stdout",
     "output_type": "stream",
     "text": [
      "1 2.0588235294117645 -0.39079991858335283\n",
      "2 2.0812636598450225 -0.1472040595537587\n",
      "3 2.089639210090847 -0.054676503273293875\n",
      "4 2.0927395743180055 -0.020202866312461154\n",
      "5 2.0938837084618487 -0.007450505938193963\n"
     ]
    }
   ],
   "source": [
    "from sympy import *\n",
    "x=Symbol('x')\n",
    "g=x**3-2*x-5\n",
    "f=lambdify(x,g)\n",
    "a=2\n",
    "b=3\n",
    "n=5\n",
    "for i in range(1,n+1):\n",
    "    c=((a*f(b)-b*f(a))/(f(b)-f(a)))\n",
    "    if(f(a)*f(c)<0):\n",
    "       b=c\n",
    "    else:\n",
    "       a=c\n",
    "    print(i,c,f(c))"
   ]
  },
  {
   "cell_type": "code",
   "execution_count": null,
   "id": "b5bd1e84",
   "metadata": {},
   "outputs": [],
   "source": []
  }
 ],
 "metadata": {
  "kernelspec": {
   "display_name": "Python 3 (ipykernel)",
   "language": "python",
   "name": "python3"
  },
  "language_info": {
   "codemirror_mode": {
    "name": "ipython",
    "version": 3
   },
   "file_extension": ".py",
   "mimetype": "text/x-python",
   "name": "python",
   "nbconvert_exporter": "python",
   "pygments_lexer": "ipython3",
   "version": "3.9.13"
  }
 },
 "nbformat": 4,
 "nbformat_minor": 5
}
